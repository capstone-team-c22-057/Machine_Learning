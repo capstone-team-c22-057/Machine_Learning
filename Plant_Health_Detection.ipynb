{
  "cells": [
    {
      "cell_type": "markdown",
      "source": [
        "#DETEKSI PENYAKIT TUMBUHAN BERDASARKAN DAUNNYA"
      ],
      "metadata": {
        "id": "XgAkeeUaCNuQ"
      }
    },
    {
      "cell_type": "markdown",
      "source": [
        "##Import Libraries"
      ],
      "metadata": {
        "id": "5rYZx5uEJJKN"
      }
    },
    {
      "cell_type": "code",
      "execution_count": null,
      "metadata": {
        "colab": {
          "base_uri": "https://localhost:8080/"
        },
        "id": "rxmNAUQ8H5ks",
        "outputId": "a8387c38-fd25-468a-cc67-d695c198f65b"
      },
      "outputs": [
        {
          "output_type": "stream",
          "name": "stdout",
          "text": [
            "Looking in indexes: https://pypi.org/simple, https://us-python.pkg.dev/colab-wheels/public/simple/\n",
            "Collecting opendatasets\n",
            "  Downloading opendatasets-0.1.22-py3-none-any.whl (15 kB)\n",
            "Requirement already satisfied: click in /usr/local/lib/python3.8/dist-packages (from opendatasets) (7.1.2)\n",
            "Requirement already satisfied: tqdm in /usr/local/lib/python3.8/dist-packages (from opendatasets) (4.64.1)\n",
            "Requirement already satisfied: kaggle in /usr/local/lib/python3.8/dist-packages (from opendatasets) (1.5.12)\n",
            "Requirement already satisfied: certifi in /usr/local/lib/python3.8/dist-packages (from kaggle->opendatasets) (2022.9.24)\n",
            "Requirement already satisfied: requests in /usr/local/lib/python3.8/dist-packages (from kaggle->opendatasets) (2.23.0)\n",
            "Requirement already satisfied: python-slugify in /usr/local/lib/python3.8/dist-packages (from kaggle->opendatasets) (7.0.0)\n",
            "Requirement already satisfied: python-dateutil in /usr/local/lib/python3.8/dist-packages (from kaggle->opendatasets) (2.8.2)\n",
            "Requirement already satisfied: urllib3 in /usr/local/lib/python3.8/dist-packages (from kaggle->opendatasets) (1.24.3)\n",
            "Requirement already satisfied: six>=1.10 in /usr/local/lib/python3.8/dist-packages (from kaggle->opendatasets) (1.15.0)\n",
            "Requirement already satisfied: text-unidecode>=1.3 in /usr/local/lib/python3.8/dist-packages (from python-slugify->kaggle->opendatasets) (1.3)\n",
            "Requirement already satisfied: chardet<4,>=3.0.2 in /usr/local/lib/python3.8/dist-packages (from requests->kaggle->opendatasets) (3.0.4)\n",
            "Requirement already satisfied: idna<3,>=2.5 in /usr/local/lib/python3.8/dist-packages (from requests->kaggle->opendatasets) (2.10)\n",
            "Installing collected packages: opendatasets\n",
            "Successfully installed opendatasets-0.1.22\n"
          ]
        }
      ],
      "source": [
        "import tensorflow as tf\n",
        "!pip install opendatasets"
      ]
    },
    {
      "cell_type": "code",
      "execution_count": null,
      "metadata": {
        "id": "5-ZbOQymIcKI"
      },
      "outputs": [],
      "source": [
        "from tensorflow.keras.preprocessing.image import ImageDataGenerator\n",
        "from tensorflow.keras.layers import Input\n",
        "import numpy as np\n",
        "import opendatasets as od\n",
        "import matplotlib.pyplot as plt\n",
        "import pathlib\n",
        "from google.colab import files"
      ]
    },
    {
      "cell_type": "markdown",
      "source": [
        "##Download Dataset"
      ],
      "metadata": {
        "id": "C6T4cLGdCbk3"
      }
    },
    {
      "cell_type": "code",
      "execution_count": null,
      "metadata": {
        "colab": {
          "base_uri": "https://localhost:8080/"
        },
        "id": "RY7oROD0Ihhs",
        "outputId": "1a26e2ce-cbba-496c-f515-2d97ffa6afbc"
      },
      "outputs": [
        {
          "output_type": "stream",
          "name": "stdout",
          "text": [
            "Please provide your Kaggle credentials to download this dataset. Learn more: http://bit.ly/kaggle-creds\n",
            "Your Kaggle username: wahyunandanicola\n",
            "Your Kaggle Key: ··········\n",
            "Downloading plantvillage-dataset.zip to ./plantvillage-dataset\n"
          ]
        },
        {
          "output_type": "stream",
          "name": "stderr",
          "text": [
            "100%|██████████| 2.04G/2.04G [01:42<00:00, 21.4MB/s]\n"
          ]
        },
        {
          "output_type": "stream",
          "name": "stdout",
          "text": [
            "\n"
          ]
        }
      ],
      "source": [
        "od.download(\"https://www.kaggle.com/datasets/abdallahalidev/plantvillage-dataset\")"
      ]
    },
    {
      "cell_type": "markdown",
      "source": [
        "##Preparing Data"
      ],
      "metadata": {
        "id": "A8GVPWMCCmwI"
      }
    },
    {
      "cell_type": "code",
      "execution_count": null,
      "metadata": {
        "colab": {
          "base_uri": "https://localhost:8080/"
        },
        "id": "alKRdFZxJPtT",
        "outputId": "14ce8c6b-87cc-43a9-83be-33191c33138e"
      },
      "outputs": [
        {
          "output_type": "stream",
          "name": "stdout",
          "text": [
            "SEBELUM DIKURANGI KELASNYA\n",
            "ADA 38 KELAS\n",
            "['Orange___Haunglongbing_(Citrus_greening)', 'Grape___Leaf_blight_(Isariopsis_Leaf_Spot)', 'Raspberry___healthy', 'Tomato___Tomato_Yellow_Leaf_Curl_Virus', 'Tomato___Leaf_Mold', 'Tomato___Target_Spot', 'Tomato___Spider_mites Two-spotted_spider_mite', 'Peach___healthy', 'Peach___Bacterial_spot', 'Tomato___Early_blight', 'Apple___Cedar_apple_rust', 'Tomato___healthy', 'Apple___healthy', 'Cherry_(including_sour)___healthy', 'Soybean___healthy', 'Pepper,_bell___Bacterial_spot', 'Cherry_(including_sour)___Powdery_mildew', 'Corn_(maize)___Common_rust_', 'Grape___healthy', 'Corn_(maize)___Northern_Leaf_Blight', 'Potato___Early_blight', 'Apple___Apple_scab', 'Potato___healthy', 'Grape___Black_rot', 'Corn_(maize)___healthy', 'Blueberry___healthy', 'Tomato___Late_blight', 'Tomato___Tomato_mosaic_virus', 'Apple___Black_rot', 'Potato___Late_blight', 'Squash___Powdery_mildew', 'Strawberry___Leaf_scorch', 'Strawberry___healthy', 'Pepper,_bell___healthy', 'Tomato___Bacterial_spot', 'Tomato___Septoria_leaf_spot', 'Corn_(maize)___Cercospora_leaf_spot Gray_leaf_spot', 'Grape___Esca_(Black_Measles)']\n"
          ]
        }
      ],
      "source": [
        "import os\n",
        "import tensorflow as tf\n",
        "print(\"SEBELUM DIKURANGI KELASNYA\")\n",
        "list_dir = os.listdir('/content/plantvillage-dataset/plantvillage dataset/color')\n",
        "print(f\"ADA {len(list_dir)} KELAS\")\n",
        "print(list_dir)"
      ]
    },
    {
      "cell_type": "code",
      "execution_count": null,
      "metadata": {
        "colab": {
          "base_uri": "https://localhost:8080/"
        },
        "id": "eC_m9nnvJkdd",
        "outputId": "446c7574-f41d-4838-8049-2fee7cf288fa"
      },
      "outputs": [
        {
          "output_type": "execute_result",
          "data": {
            "text/plain": [
              "['Orange___Haunglongbing_(Citrus_greening)',\n",
              " 'Grape___Leaf_blight_(Isariopsis_Leaf_Spot)',\n",
              " 'Raspberry___healthy',\n",
              " 'Tomato___Tomato_Yellow_Leaf_Curl_Virus',\n",
              " 'Tomato___Leaf_Mold',\n",
              " 'Tomato___Target_Spot',\n",
              " 'Tomato___Spider_mites Two-spotted_spider_mite',\n",
              " 'Peach___healthy',\n",
              " 'Peach___Bacterial_spot',\n",
              " 'Tomato___Early_blight',\n",
              " 'Apple___Cedar_apple_rust',\n",
              " 'Tomato___healthy',\n",
              " 'Apple___healthy',\n",
              " 'Cherry_(including_sour)___healthy',\n",
              " 'Soybean___healthy',\n",
              " 'Pepper,_bell___Bacterial_spot',\n",
              " 'Cherry_(including_sour)___Powdery_mildew',\n",
              " 'Corn_(maize)___Common_rust_',\n",
              " 'Grape___healthy',\n",
              " 'Corn_(maize)___Northern_Leaf_Blight',\n",
              " 'Potato___Early_blight',\n",
              " 'Apple___Apple_scab',\n",
              " 'Potato___healthy',\n",
              " 'Grape___Black_rot',\n",
              " 'Corn_(maize)___healthy',\n",
              " 'Blueberry___healthy',\n",
              " 'Tomato___Late_blight',\n",
              " 'Tomato___Tomato_mosaic_virus',\n",
              " 'Apple___Black_rot',\n",
              " 'Potato___Late_blight',\n",
              " 'Squash___Powdery_mildew',\n",
              " 'Strawberry___Leaf_scorch',\n",
              " 'Strawberry___healthy',\n",
              " 'Pepper,_bell___healthy',\n",
              " 'Tomato___Bacterial_spot',\n",
              " 'Tomato___Septoria_leaf_spot',\n",
              " 'Corn_(maize)___Cercospora_leaf_spot Gray_leaf_spot',\n",
              " 'Grape___Esca_(Black_Measles)']"
            ]
          },
          "metadata": {},
          "execution_count": 5
        }
      ],
      "source": [
        "os.listdir('/content/plantvillage-dataset/plantvillage dataset/color')"
      ]
    },
    {
      "cell_type": "code",
      "execution_count": null,
      "metadata": {
        "id": "ePlVacufJcM4"
      },
      "outputs": [],
      "source": [
        "base_dir ='/content/plantvillage-dataset/plantvillage dataset/color'\n",
        "train_dir = os.path.join(base_dir, 'train')\n",
        "validation_dir = os.path.join(base_dir, 'val')"
      ]
    },
    {
      "cell_type": "code",
      "execution_count": null,
      "metadata": {
        "id": "bjKF9O72Jso0"
      },
      "outputs": [],
      "source": [
        "list_use_class = [\"Apple\", \"Corn_(maize)\", \"Grape\"]\n",
        "list_not_use_class = []\n",
        "for name_dir in os.listdir('/content/plantvillage-dataset/plantvillage dataset/color'):\n",
        "  class_name = name_dir.split(\"___\")[0]\n",
        "  if class_name not in list_use_class:\n",
        "    list_not_use_class.append(os.path.join(base_dir, name_dir))"
      ]
    },
    {
      "cell_type": "markdown",
      "metadata": {
        "id": "WlaHrCPzJu-B"
      },
      "source": [
        "AKAN DIHAPUS FITUR YANG TIDAK DIGUNAKAN YAITU SELAIN APPLE, GRAPE, CORN"
      ]
    },
    {
      "cell_type": "code",
      "execution_count": null,
      "metadata": {
        "id": "pYQrLEN9J0Ro"
      },
      "outputs": [],
      "source": [
        "import shutil\n",
        "\n",
        "for path_class in list_not_use_class:\n",
        "  if os.path.exists(path_class):\n",
        "    shutil.rmtree(path_class)"
      ]
    },
    {
      "cell_type": "markdown",
      "metadata": {
        "id": "8tp454c2J7Nb"
      },
      "source": [
        "CEK BANYAK KELAS UNTUK OUTPUT MODEL"
      ]
    },
    {
      "cell_type": "code",
      "execution_count": null,
      "metadata": {
        "colab": {
          "base_uri": "https://localhost:8080/"
        },
        "id": "LBDwyo6RJ-7M",
        "outputId": "f6c1b334-c5f9-43b9-ee29-91fed63a77e7"
      },
      "outputs": [
        {
          "output_type": "execute_result",
          "data": {
            "text/plain": [
              "12"
            ]
          },
          "metadata": {},
          "execution_count": 9
        }
      ],
      "source": [
        "len(os.listdir('/content/plantvillage-dataset/plantvillage dataset/color'))"
      ]
    },
    {
      "cell_type": "markdown",
      "metadata": {
        "id": "s8h8SqjVKDXS"
      },
      "source": [
        "BERIKUT FITUR ATAU KELAS UNTUK LIST PREDIKSI"
      ]
    },
    {
      "cell_type": "code",
      "execution_count": null,
      "metadata": {
        "colab": {
          "base_uri": "https://localhost:8080/"
        },
        "id": "G-B08fW7KKxr",
        "outputId": "9dc09eb3-dcad-45a9-e054-3d1efce3e1fa"
      },
      "outputs": [
        {
          "output_type": "execute_result",
          "data": {
            "text/plain": [
              "['Apple___Apple_scab',\n",
              " 'Apple___Black_rot',\n",
              " 'Apple___Cedar_apple_rust',\n",
              " 'Apple___healthy',\n",
              " 'Corn_(maize)___Cercospora_leaf_spot Gray_leaf_spot',\n",
              " 'Corn_(maize)___Common_rust_',\n",
              " 'Corn_(maize)___Northern_Leaf_Blight',\n",
              " 'Corn_(maize)___healthy',\n",
              " 'Grape___Black_rot',\n",
              " 'Grape___Esca_(Black_Measles)',\n",
              " 'Grape___Leaf_blight_(Isariopsis_Leaf_Spot)',\n",
              " 'Grape___healthy']"
            ]
          },
          "metadata": {},
          "execution_count": 10
        }
      ],
      "source": [
        "sorted(os.listdir('/content/plantvillage-dataset/plantvillage dataset/color'))"
      ]
    },
    {
      "cell_type": "markdown",
      "metadata": {
        "id": "Bxh6qq3zKQm8"
      },
      "source": [
        "##IMAGE AUGMENTATION"
      ]
    },
    {
      "cell_type": "code",
      "execution_count": null,
      "metadata": {
        "colab": {
          "base_uri": "https://localhost:8080/"
        },
        "id": "5wHQ9jR-KUcb",
        "outputId": "10424ceb-aa6e-4c94-f08d-bfbdcf33b396"
      },
      "outputs": [
        {
          "output_type": "stream",
          "name": "stdout",
          "text": [
            "Found 8871 images belonging to 12 classes.\n",
            "Found 2214 images belonging to 12 classes.\n"
          ]
        }
      ],
      "source": [
        "import tensorflow as tf\n",
        "from tensorflow.keras.preprocessing.image import ImageDataGenerator\n",
        "\n",
        "train_datagen = ImageDataGenerator(\n",
        "                    rescale=1.0/255,\n",
        "                    rotation_range=40,\n",
        "                    width_shift_range=0.2,\n",
        "                    height_shift_range=0.2,\n",
        "                    shear_range=0.2,\n",
        "                    zoom_range=0.2,\n",
        "                    horizontal_flip=True,\n",
        "                    vertical_flip= True,\n",
        "                    fill_mode='nearest',\n",
        "                    validation_split=0.2\n",
        "                    )\n",
        "\n",
        "train_generator = train_datagen.flow_from_directory(\n",
        "                      base_dir, \n",
        "                      target_size= (150, 150),  \n",
        "                      batch_size= 32,\n",
        "                      shuffle = True,\n",
        "                      subset = 'training',\n",
        "                      class_mode= 'categorical' \n",
        "                      )\n",
        "\n",
        "\n",
        "validation_generator = train_datagen.flow_from_directory(\n",
        "                          base_dir, \n",
        "                          target_size= (150, 150),\n",
        "                          batch_size= 32, \n",
        "                          shuffle = True,\n",
        "                          subset = 'validation',\n",
        "                          class_mode= 'categorical'\n",
        "                          )"
      ]
    },
    {
      "cell_type": "markdown",
      "metadata": {
        "id": "mNZqGoI4K6mb"
      },
      "source": [
        "##MODELLING"
      ]
    },
    {
      "cell_type": "code",
      "execution_count": null,
      "metadata": {
        "colab": {
          "base_uri": "https://localhost:8080/"
        },
        "id": "64HWkWyjK8dd",
        "outputId": "09c692af-67ab-43e5-d642-0df27d1ca8de"
      },
      "outputs": [
        {
          "output_type": "stream",
          "name": "stdout",
          "text": [
            "Model: \"sequential\"\n",
            "_________________________________________________________________\n",
            " Layer (type)                Output Shape              Param #   \n",
            "=================================================================\n",
            " conv2d (Conv2D)             (None, 148, 148, 64)      1792      \n",
            "                                                                 \n",
            " max_pooling2d (MaxPooling2D  (None, 74, 74, 64)       0         \n",
            " )                                                               \n",
            "                                                                 \n",
            " conv2d_1 (Conv2D)           (None, 72, 72, 128)       73856     \n",
            "                                                                 \n",
            " max_pooling2d_1 (MaxPooling  (None, 36, 36, 128)      0         \n",
            " 2D)                                                             \n",
            "                                                                 \n",
            " conv2d_2 (Conv2D)           (None, 34, 34, 512)       590336    \n",
            "                                                                 \n",
            " max_pooling2d_2 (MaxPooling  (None, 17, 17, 512)      0         \n",
            " 2D)                                                             \n",
            "                                                                 \n",
            " conv2d_3 (Conv2D)           (None, 15, 15, 1024)      4719616   \n",
            "                                                                 \n",
            " max_pooling2d_3 (MaxPooling  (None, 7, 7, 1024)       0         \n",
            " 2D)                                                             \n",
            "                                                                 \n",
            " flatten (Flatten)           (None, 50176)             0         \n",
            "                                                                 \n",
            " dropout (Dropout)           (None, 50176)             0         \n",
            "                                                                 \n",
            " dense (Dense)               (None, 512)               25690624  \n",
            "                                                                 \n",
            " dense_1 (Dense)             (None, 12)                6156      \n",
            "                                                                 \n",
            "=================================================================\n",
            "Total params: 31,082,380\n",
            "Trainable params: 31,082,380\n",
            "Non-trainable params: 0\n",
            "_________________________________________________________________\n"
          ]
        }
      ],
      "source": [
        "from tensorflow.keras.models import Sequential\n",
        "from tensorflow.keras.layers import Dense, Dropout, Conv2D, Activation, Flatten, MaxPool2D\n",
        "from tensorflow.keras.applications import ResNet50\n",
        "\n",
        "\n",
        "model = tf.keras.models.Sequential([\n",
        "    tf.keras.layers.Conv2D(64, (3,3), activation='relu', input_shape=(150, 150, 3)),\n",
        "    tf.keras.layers.MaxPooling2D(2,2),\n",
        "    tf.keras.layers.Conv2D(128, (3,3), activation='relu'),\n",
        "    tf.keras.layers.MaxPooling2D(2,2),\n",
        "    tf.keras.layers.Conv2D(512, (3,3), activation='relu'),\n",
        "    tf.keras.layers.MaxPooling2D(2,2),\n",
        "    tf.keras.layers.Conv2D(1024, (3,3), activation='relu'),\n",
        "    tf.keras.layers.MaxPooling2D(2,2),\n",
        "    tf.keras.layers.Flatten(),\n",
        "    tf.keras.layers.Dropout(0.25),\n",
        "    tf.keras.layers.Dense(512, activation='relu'),\n",
        "    tf.keras.layers.Dense(12, activation='softmax')\n",
        "])\n",
        "\n",
        "model.summary()"
      ]
    },
    {
      "cell_type": "code",
      "execution_count": null,
      "metadata": {
        "id": "hQyHp4vTLjsW"
      },
      "outputs": [],
      "source": [
        "model.compile(loss = 'categorical_crossentropy',\n",
        "              optimizer= tf.optimizers.Adam(), \n",
        "              metrics= ['accuracy'])"
      ]
    },
    {
      "cell_type": "code",
      "execution_count": null,
      "metadata": {
        "id": "PB638EeVLyzS"
      },
      "outputs": [],
      "source": [
        "class myCallback(tf.keras.callbacks.Callback): \n",
        "    def on_epoch_end(self, epoch, logs={}): \n",
        "        if(logs.get('accuracy') > 0.99 and logs.get('val_accuracy') > 0.99):\n",
        "            print(\"\\nakurasi lebih besar dari 96%. maka training berhenti!\") \n",
        "            self.model.stop_training = True \n",
        " \n",
        "callbacks = myCallback()"
      ]
    },
    {
      "cell_type": "code",
      "execution_count": null,
      "metadata": {
        "colab": {
          "base_uri": "https://localhost:8080/"
        },
        "id": "GiRIQkW1L5j-",
        "outputId": "0bd50989-e137-434f-b886-839cc194598b"
      },
      "outputs": [
        {
          "output_type": "stream",
          "name": "stdout",
          "text": [
            "Epoch 1/30\n",
            "278/278 [==============================] - 84s 264ms/step - loss: 1.8353 - accuracy: 0.3677 - val_loss: 1.2885 - val_accuracy: 0.5510\n",
            "Epoch 2/30\n",
            "278/278 [==============================] - 73s 262ms/step - loss: 0.9678 - accuracy: 0.6548 - val_loss: 0.6588 - val_accuracy: 0.7746\n",
            "Epoch 3/30\n",
            "278/278 [==============================] - 71s 257ms/step - loss: 0.6988 - accuracy: 0.7497 - val_loss: 0.5537 - val_accuracy: 0.7891\n",
            "Epoch 4/30\n",
            "278/278 [==============================] - 71s 256ms/step - loss: 0.5434 - accuracy: 0.8032 - val_loss: 0.4625 - val_accuracy: 0.8238\n",
            "Epoch 5/30\n",
            "278/278 [==============================] - 72s 258ms/step - loss: 0.4347 - accuracy: 0.8369 - val_loss: 0.3353 - val_accuracy: 0.8799\n",
            "Epoch 6/30\n",
            "278/278 [==============================] - 73s 262ms/step - loss: 0.3649 - accuracy: 0.8630 - val_loss: 0.3032 - val_accuracy: 0.8830\n",
            "Epoch 7/30\n",
            "278/278 [==============================] - 72s 258ms/step - loss: 0.3128 - accuracy: 0.8886 - val_loss: 0.2263 - val_accuracy: 0.9173\n",
            "Epoch 8/30\n",
            "278/278 [==============================] - 72s 258ms/step - loss: 0.2731 - accuracy: 0.8967 - val_loss: 0.2135 - val_accuracy: 0.9146\n",
            "Epoch 9/30\n",
            "278/278 [==============================] - 74s 265ms/step - loss: 0.2392 - accuracy: 0.9147 - val_loss: 0.1967 - val_accuracy: 0.9332\n",
            "Epoch 10/30\n",
            "278/278 [==============================] - 72s 258ms/step - loss: 0.2192 - accuracy: 0.9191 - val_loss: 0.1884 - val_accuracy: 0.9341\n",
            "Epoch 11/30\n",
            "278/278 [==============================] - 72s 258ms/step - loss: 0.1886 - accuracy: 0.9306 - val_loss: 0.1735 - val_accuracy: 0.9345\n",
            "Epoch 12/30\n",
            "278/278 [==============================] - 73s 262ms/step - loss: 0.1783 - accuracy: 0.9356 - val_loss: 0.1517 - val_accuracy: 0.9377\n",
            "Epoch 13/30\n",
            "278/278 [==============================] - 73s 261ms/step - loss: 0.1818 - accuracy: 0.9341 - val_loss: 0.1276 - val_accuracy: 0.9535\n",
            "Epoch 14/30\n",
            "278/278 [==============================] - 72s 259ms/step - loss: 0.1570 - accuracy: 0.9431 - val_loss: 0.1206 - val_accuracy: 0.9530\n",
            "Epoch 15/30\n",
            "278/278 [==============================] - 73s 261ms/step - loss: 0.1361 - accuracy: 0.9490 - val_loss: 0.1305 - val_accuracy: 0.9530\n",
            "Epoch 16/30\n",
            "278/278 [==============================] - 72s 259ms/step - loss: 0.1486 - accuracy: 0.9471 - val_loss: 0.2325 - val_accuracy: 0.9115\n",
            "Epoch 17/30\n",
            "278/278 [==============================] - 72s 257ms/step - loss: 0.1360 - accuracy: 0.9512 - val_loss: 0.1021 - val_accuracy: 0.9652\n",
            "Epoch 18/30\n",
            "278/278 [==============================] - 72s 260ms/step - loss: 0.1464 - accuracy: 0.9486 - val_loss: 0.1197 - val_accuracy: 0.9544\n",
            "Epoch 19/30\n",
            "278/278 [==============================] - 71s 255ms/step - loss: 0.1145 - accuracy: 0.9584 - val_loss: 0.1514 - val_accuracy: 0.9408\n",
            "Epoch 20/30\n",
            "278/278 [==============================] - 72s 258ms/step - loss: 0.1163 - accuracy: 0.9580 - val_loss: 0.1242 - val_accuracy: 0.9580\n",
            "Epoch 21/30\n",
            "278/278 [==============================] - 73s 262ms/step - loss: 0.1137 - accuracy: 0.9583 - val_loss: 0.1031 - val_accuracy: 0.9657\n",
            "Epoch 22/30\n",
            "278/278 [==============================] - 71s 256ms/step - loss: 0.1201 - accuracy: 0.9574 - val_loss: 0.1339 - val_accuracy: 0.9512\n",
            "Epoch 23/30\n",
            "278/278 [==============================] - 71s 256ms/step - loss: 0.1061 - accuracy: 0.9598 - val_loss: 0.1451 - val_accuracy: 0.9476\n",
            "Epoch 24/30\n",
            "278/278 [==============================] - 71s 255ms/step - loss: 0.0993 - accuracy: 0.9647 - val_loss: 0.0723 - val_accuracy: 0.9702\n",
            "Epoch 25/30\n",
            "278/278 [==============================] - 72s 261ms/step - loss: 0.1000 - accuracy: 0.9636 - val_loss: 0.1049 - val_accuracy: 0.9657\n",
            "Epoch 26/30\n",
            "278/278 [==============================] - 71s 255ms/step - loss: 0.1024 - accuracy: 0.9640 - val_loss: 0.1052 - val_accuracy: 0.9630\n",
            "Epoch 27/30\n",
            "278/278 [==============================] - 71s 256ms/step - loss: 0.0929 - accuracy: 0.9682 - val_loss: 0.0777 - val_accuracy: 0.9697\n",
            "Epoch 28/30\n",
            "278/278 [==============================] - 72s 260ms/step - loss: 0.0911 - accuracy: 0.9676 - val_loss: 0.1659 - val_accuracy: 0.9490\n",
            "Epoch 29/30\n",
            "278/278 [==============================] - 71s 256ms/step - loss: 0.0936 - accuracy: 0.9669 - val_loss: 0.1470 - val_accuracy: 0.9476\n",
            "Epoch 30/30\n",
            "278/278 [==============================] - 71s 254ms/step - loss: 0.1031 - accuracy: 0.9630 - val_loss: 0.1511 - val_accuracy: 0.9499\n"
          ]
        }
      ],
      "source": [
        "history = model.fit(\n",
        "          train_generator,\n",
        "          epochs=30, \n",
        "          steps_per_epoch=len(train_generator),\n",
        "          validation_data=validation_generator,\n",
        "          validation_steps=len(validation_generator),\n",
        "          verbose=1,\n",
        "          callbacks = [callbacks])"
      ]
    },
    {
      "cell_type": "markdown",
      "metadata": {
        "id": "AOwAFfjmMdRM"
      },
      "source": [
        "##VISUALISASI AKURASI DAN LOSS"
      ]
    },
    {
      "cell_type": "code",
      "execution_count": null,
      "metadata": {
        "id": "ptUEMtXgMjAW",
        "colab": {
          "base_uri": "https://localhost:8080/",
          "height": 580
        },
        "outputId": "51ab488f-ac6a-4220-ec39-a599eae889b4"
      },
      "outputs": [
        {
          "output_type": "display_data",
          "data": {
            "text/plain": [
              "<Figure size 432x288 with 1 Axes>"
            ],
            "image/png": "[encoded data removed]"
          },
          "metadata": {
            "needs_background": "light"
          }
        },
        {
          "output_type": "display_data",
          "data": {
            "text/plain": [
              "<Figure size 432x288 with 0 Axes>"
            ]
          },
          "metadata": {}
        },
        {
          "output_type": "display_data",
          "data": {
            "text/plain": [
              "<Figure size 432x288 with 1 Axes>"
            ],
            "image/png": "[encoded data removed]"
          },
          "metadata": {
            "needs_background": "light"
          }
        },
        {
          "output_type": "display_data",
          "data": {
            "text/plain": [
              "<Figure size 432x288 with 0 Axes>"
            ]
          },
          "metadata": {}
        }
      ],
      "source": [
        "import matplotlib.pyplot as plt\n",
        "\n",
        "acc = history.history['accuracy']\n",
        "val_acc = history.history['val_accuracy']\n",
        "loss = history.history['loss']\n",
        "val_loss = history.history['val_loss']\n",
        "\n",
        "epochs = range(len(acc))\n",
        "\n",
        "plt.plot(epochs, acc, 'r', label='accuracy Training ')\n",
        "plt.plot(epochs, val_acc, 'b', label='accuracy Validasi')\n",
        "plt.title('accuracy Training and Validasi')\n",
        "plt.legend(loc=0)\n",
        "plt.figure()\n",
        "plt.show()\n",
        "\n",
        "plt.plot(epochs, loss, 'r', label='loss Training ')\n",
        "plt.plot(epochs, val_loss, 'b', label='loss Validasi')\n",
        "plt.title('loss Training and Validasi')\n",
        "plt.legend(loc=0)\n",
        "plt.figure()\n",
        "plt.show()"
      ]
    },
    {
      "cell_type": "markdown",
      "metadata": {
        "id": "9bzAQj0sMrpx"
      },
      "source": [
        "##PREDIKSI MODEL"
      ]
    },
    {
      "cell_type": "code",
      "execution_count": null,
      "metadata": {
        "id": "mZbJ8AHvMqUM",
        "colab": {
          "base_uri": "https://localhost:8080/",
          "height": 412
        },
        "outputId": "71744570-90d0-4bc9-fc70-82a2c0a569d1"
      },
      "outputs": [
        {
          "output_type": "display_data",
          "data": {
            "text/plain": [
              "<IPython.core.display.HTML object>"
            ],
            "text/html": [
              "\n",
              "     <input type=\"file\" id=\"files-7e70542a-5724-4981-8154-bea320f473fb\" name=\"files[]\" multiple disabled\n",
              "        style=\"border:none\" />\n",
              "     <output id=\"result-7e70542a-5724-4981-8154-bea320f473fb\">\n",
              "      Upload widget is only available when the cell has been executed in the\n",
              "      current browser session. Please rerun this cell to enable.\n",
              "      </output>\n",
              "      <script>// Copyright 2017 Google LLC\n",
              "//\n",
              "// Licensed under the Apache License, Version 2.0 (the \"License\");\n",
              "// you may not use this file except in compliance with the License.\n",
              "// You may obtain a copy of the License at\n",
              "//\n",
              "//      http://www.apache.org/licenses/LICENSE-2.0\n",
              "//\n",
              "// Unless required by applicable law or agreed to in writing, software\n",
              "// distributed under the License is distributed on an \"AS IS\" BASIS,\n",
              "// WITHOUT WARRANTIES OR CONDITIONS OF ANY KIND, either express or implied.\n",
              "// See the License for the specific language governing permissions and\n",
              "// limitations under the License.\n",
              "\n",
              "/**\n",
              " * @fileoverview Helpers for google.colab Python module.\n",
              " */\n",
              "(function(scope) {\n",
              "function span(text, styleAttributes = {}) {\n",
              "  const element = document.createElement('span');\n",
              "  element.textContent = text;\n",
              "  for (const key of Object.keys(styleAttributes)) {\n",
              "    element.style[key] = styleAttributes[key];\n",
              "  }\n",
              "  return element;\n",
              "}\n",
              "\n",
              "// Max number of bytes which will be uploaded at a time.\n",
              "const MAX_PAYLOAD_SIZE = 100 * 1024;\n",
              "\n",
              "function _uploadFiles(inputId, outputId) {\n",
              "  const steps = uploadFilesStep(inputId, outputId);\n",
              "  const outputElement = document.getElementById(outputId);\n",
              "  // Cache steps on the outputElement to make it available for the next call\n",
              "  // to uploadFilesContinue from Python.\n",
              "  outputElement.steps = steps;\n",
              "\n",
              "  return _uploadFilesContinue(outputId);\n",
              "}\n",
              "\n",
              "// This is roughly an async generator (not supported in the browser yet),\n",
              "// where there are multiple asynchronous steps and the Python side is going\n",
              "// to poll for completion of each step.\n",
              "// This uses a Promise to block the python side on completion of each step,\n",
              "// then passes the result of the previous step as the input to the next step.\n",
              "function _uploadFilesContinue(outputId) {\n",
              "  const outputElement = document.getElementById(outputId);\n",
              "  const steps = outputElement.steps;\n",
              "\n",
              "  const next = steps.next(outputElement.lastPromiseValue);\n",
              "  return Promise.resolve(next.value.promise).then((value) => {\n",
              "    // Cache the last promise value to make it available to the next\n",
              "    // step of the generator.\n",
              "    outputElement.lastPromiseValue = value;\n",
              "    return next.value.response;\n",
              "  });\n",
              "}\n",
              "\n",
              "/**\n",
              " * Generator function which is called between each async step of the upload\n",
              " * process.\n",
              " * @param {string} inputId Element ID of the input file picker element.\n",
              " * @param {string} outputId Element ID of the output display.\n",
              " * @return {!Iterable<!Object>} Iterable of next steps.\n",
              " */\n",
              "function* uploadFilesStep(inputId, outputId) {\n",
              "  const inputElement = document.getElementById(inputId);\n",
              "  inputElement.disabled = false;\n",
              "\n",
              "  const outputElement = document.getElementById(outputId);\n",
              "  outputElement.innerHTML = '';\n",
              "\n",
              "  const pickedPromise = new Promise((resolve) => {\n",
              "    inputElement.addEventListener('change', (e) => {\n",
              "      resolve(e.target.files);\n",
              "    });\n",
              "  });\n",
              "\n",
              "  const cancel = document.createElement('button');\n",
              "  inputElement.parentElement.appendChild(cancel);\n",
              "  cancel.textContent = 'Cancel upload';\n",
              "  const cancelPromise = new Promise((resolve) => {\n",
              "    cancel.onclick = () => {\n",
              "      resolve(null);\n",
              "    };\n",
              "  });\n",
              "\n",
              "  // Wait for the user to pick the files.\n",
              "  const files = yield {\n",
              "    promise: Promise.race([pickedPromise, cancelPromise]),\n",
              "    response: {\n",
              "      action: 'starting',\n",
              "    }\n",
              "  };\n",
              "\n",
              "  cancel.remove();\n",
              "\n",
              "  // Disable the input element since further picks are not allowed.\n",
              "  inputElement.disabled = true;\n",
              "\n",
              "  if (!files) {\n",
              "    return {\n",
              "      response: {\n",
              "        action: 'complete',\n",
              "      }\n",
              "    };\n",
              "  }\n",
              "\n",
              "  for (const file of files) {\n",
              "    const li = document.createElement('li');\n",
              "    li.append(span(file.name, {fontWeight: 'bold'}));\n",
              "    li.append(span(\n",
              "        `(${file.type || 'n/a'}) - ${file.size} bytes, ` +\n",
              "        `last modified: ${\n",
              "            file.lastModifiedDate ? file.lastModifiedDate.toLocaleDateString() :\n",
              "                                    'n/a'} - `));\n",
              "    const percent = span('0% done');\n",
              "    li.appendChild(percent);\n",
              "\n",
              "    outputElement.appendChild(li);\n",
              "\n",
              "    const fileDataPromise = new Promise((resolve) => {\n",
              "      const reader = new FileReader();\n",
              "      reader.onload = (e) => {\n",
              "        resolve(e.target.result);\n",
              "      };\n",
              "      reader.readAsArrayBuffer(file);\n",
              "    });\n",
              "    // Wait for the data to be ready.\n",
              "    let fileData = yield {\n",
              "      promise: fileDataPromise,\n",
              "      response: {\n",
              "        action: 'continue',\n",
              "      }\n",
              "    };\n",
              "\n",
              "    // Use a chunked sending to avoid message size limits. See b/62115660.\n",
              "    let position = 0;\n",
              "    do {\n",
              "      const length = Math.min(fileData.byteLength - position, MAX_PAYLOAD_SIZE);\n",
              "      const chunk = new Uint8Array(fileData, position, length);\n",
              "      position += length;\n",
              "\n",
              "      const base64 = btoa(String.fromCharCode.apply(null, chunk));\n",
              "      yield {\n",
              "        response: {\n",
              "          action: 'append',\n",
              "          file: file.name,\n",
              "          data: base64,\n",
              "        },\n",
              "      };\n",
              "\n",
              "      let percentDone = fileData.byteLength === 0 ?\n",
              "          100 :\n",
              "          Math.round((position / fileData.byteLength) * 100);\n",
              "      percent.textContent = `${percentDone}% done`;\n",
              "\n",
              "    } while (position < fileData.byteLength);\n",
              "  }\n",
              "\n",
              "  // All done.\n",
              "  yield {\n",
              "    response: {\n",
              "      action: 'complete',\n",
              "    }\n",
              "  };\n",
              "}\n",
              "\n",
              "scope.google = scope.google || {};\n",
              "scope.google.colab = scope.google.colab || {};\n",
              "scope.google.colab._files = {\n",
              "  _uploadFiles,\n",
              "  _uploadFilesContinue,\n",
              "};\n",
              "})(self);\n",
              "</script> "
            ]
          },
          "metadata": {}
        },
        {
          "output_type": "stream",
          "name": "stdout",
          "text": [
            "Saving corn northen.jpg to corn northen (1).jpg\n",
            "1/1 [==============================] - 0s 16ms/step\n",
            "[[0.0000000e+00 0.0000000e+00 0.0000000e+00 0.0000000e+00 0.0000000e+00\n",
            "  1.4132548e-12 1.0000000e+00 0.0000000e+00 0.0000000e+00 0.0000000e+00\n",
            "  0.0000000e+00 0.0000000e+00]]\n",
            "Corn_(maize)___Northern_Leaf_Blight\n"
          ]
        },
        {
          "output_type": "display_data",
          "data": {
            "text/plain": [
              "<Figure size 432x288 with 1 Axes>"
            ],
            "image/png": "[encoded data removed]"
          },
          "metadata": {
            "needs_background": "light"
          }
        }
      ],
      "source": [
        "import numpy as np\n",
        "from google.colab import files\n",
        "from tensorflow.keras.preprocessing import image\n",
        "import matplotlib.pyplot as plt\n",
        "import matplotlib.image as mpimg\n",
        "%matplotlib inline\n",
        " \n",
        "uploaded = files.upload()\n",
        " \n",
        "for fn in uploaded.keys():\n",
        " \n",
        "  # predicting images\n",
        "  path = fn\n",
        "  img = image.load_img(path, target_size=(150,150))\n",
        " \n",
        "  imgplot = plt.imshow(img)\n",
        "  x = image.img_to_array(img)\n",
        "  x = np.expand_dims(x, axis=0)\n",
        "  images = np.vstack([x])\n",
        " \n",
        "  classes = model.predict(images, batch_size=10)  \n",
        "  print(classes)\n",
        "  if classes[0,0]==1:\n",
        "   print('Apple___Apple_scab')\n",
        "  elif classes[0,1]==1:\n",
        "   print('Apple___Black_rot')\n",
        "  elif classes[0,2]==1:\n",
        "   print('Apple___Cedar_apple_rust')\n",
        "  elif classes[0,3]==1:\n",
        "   print('Apple___healthy')\n",
        "  elif classes[0,4]==1:\n",
        "   print('Corn_(maize)___Cercospora_leaf_spot Gray_leaf_spot')\n",
        "  elif classes[0,5]==1:\n",
        "   print('Corn_(maize)___Common_rust_')\n",
        "  elif classes[0,6]==1:\n",
        "   print('Corn_(maize)___Northern_Leaf_Blight')\n",
        "  elif classes[0,7]==1:\n",
        "   print('Corn_(maize)___healthy')\n",
        "  elif classes[0,8]==1:\n",
        "   print('Grape___Black_rot')\n",
        "  elif classes[0,9]==1:\n",
        "   print('Grape___Esca_(Black_Measles)')\n",
        "  elif classes[0,10]==1:\n",
        "   print('Grape___Leaf_blight_(Isariopsis_Leaf_Spot)')\n",
        "  elif classes[0,11]==1:\n",
        "   print('Grape___healthy')\n",
        "  else :\n",
        "    print('tidak diketahui')"
      ]
    },
    {
      "cell_type": "code",
      "source": [
        "from google.colab import drive\n",
        "drive.mount('/content/drive')"
      ],
      "metadata": {
        "id": "J65oGGIxdAkK",
        "colab": {
          "base_uri": "https://localhost:8080/"
        },
        "outputId": "430ca19c-36ff-43c7-d248-c0491e6133b5"
      },
      "execution_count": null,
      "outputs": [
        {
          "output_type": "stream",
          "name": "stdout",
          "text": [
            "Mounted at /content/drive\n"
          ]
        }
      ]
    },
    {
      "cell_type": "markdown",
      "source": [
        "##Simpat File H5"
      ],
      "metadata": {
        "id": "jyyV3a61r-QT"
      }
    },
    {
      "cell_type": "code",
      "source": [
        "from tensorflow.keras.preprocessing import image\n",
        "\n",
        "model.save('/content/drive/MyDrive/Saved Models/plant_health.h5')"
      ],
      "metadata": {
        "id": "nVSBaVeXr9sD"
      },
      "execution_count": null,
      "outputs": []
    }
  ],
  "metadata": {
    "accelerator": "GPU",
    "colab": {
      "provenance": []
    },
    "gpuClass": "standard",
    "kernelspec": {
      "display_name": "Python 3",
      "name": "python3"
    },
    "language_info": {
      "name": "python"
    }
  },
  "nbformat": 4,
  "nbformat_minor": 0
}