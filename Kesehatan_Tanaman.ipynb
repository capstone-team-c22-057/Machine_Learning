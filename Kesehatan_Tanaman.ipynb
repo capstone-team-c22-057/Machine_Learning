{
  "cells": [
    {
      "cell_type": "markdown",
      "metadata": {
        "id": "gLe4mLzcWOJK"
      },
      "source": [
        "#Deteksi Kesehatan Tanaman Berdasarkan Gambar"
      ]
    },
    {
      "cell_type": "markdown",
      "metadata": {
        "id": "jbob6XCJW7ic"
      },
      "source": [
        "##Import Libraries"
      ]
    },
    {
      "cell_type": "code",
      "execution_count": null,
      "metadata": {
        "colab": {
          "base_uri": "https://localhost:8080/"
        },
        "id": "mTYo0gpaW1IP",
        "outputId": "4766bd01-5aa7-4d7b-88e9-225181ca0801"
      },
      "outputs": [
        {
          "output_type": "stream",
          "name": "stdout",
          "text": [
            "Looking in indexes: https://pypi.org/simple, https://us-python.pkg.dev/colab-wheels/public/simple/\n",
            "Collecting opendatasets\n",
            "  Downloading opendatasets-0.1.22-py3-none-any.whl (15 kB)\n",
            "Requirement already satisfied: click in /usr/local/lib/python3.7/dist-packages (from opendatasets) (7.1.2)\n",
            "Requirement already satisfied: kaggle in /usr/local/lib/python3.7/dist-packages (from opendatasets) (1.5.12)\n",
            "Requirement already satisfied: tqdm in /usr/local/lib/python3.7/dist-packages (from opendatasets) (4.64.1)\n",
            "Requirement already satisfied: urllib3 in /usr/local/lib/python3.7/dist-packages (from kaggle->opendatasets) (1.24.3)\n",
            "Requirement already satisfied: certifi in /usr/local/lib/python3.7/dist-packages (from kaggle->opendatasets) (2022.9.24)\n",
            "Requirement already satisfied: six>=1.10 in /usr/local/lib/python3.7/dist-packages (from kaggle->opendatasets) (1.15.0)\n",
            "Requirement already satisfied: python-slugify in /usr/local/lib/python3.7/dist-packages (from kaggle->opendatasets) (6.1.2)\n",
            "Requirement already satisfied: python-dateutil in /usr/local/lib/python3.7/dist-packages (from kaggle->opendatasets) (2.8.2)\n",
            "Requirement already satisfied: requests in /usr/local/lib/python3.7/dist-packages (from kaggle->opendatasets) (2.23.0)\n",
            "Requirement already satisfied: text-unidecode>=1.3 in /usr/local/lib/python3.7/dist-packages (from python-slugify->kaggle->opendatasets) (1.3)\n",
            "Requirement already satisfied: chardet<4,>=3.0.2 in /usr/local/lib/python3.7/dist-packages (from requests->kaggle->opendatasets) (3.0.4)\n",
            "Requirement already satisfied: idna<3,>=2.5 in /usr/local/lib/python3.7/dist-packages (from requests->kaggle->opendatasets) (2.10)\n",
            "Installing collected packages: opendatasets\n",
            "Successfully installed opendatasets-0.1.22\n"
          ]
        }
      ],
      "source": [
        "import tensorflow as tf\n",
        "!pip install opendatasets"
      ]
    },
    {
      "cell_type": "code",
      "execution_count": null,
      "metadata": {
        "id": "cmngJLpYXM0T"
      },
      "outputs": [],
      "source": [
        "from tensorflow.keras.preprocessing.image import ImageDataGenerator\n",
        "from tensorflow.keras.layers import Input\n",
        "import numpy as np\n",
        "import opendatasets as od\n",
        "import matplotlib.pyplot as plt\n",
        "import pathlib\n",
        "from google.colab import files"
      ]
    },
    {
      "cell_type": "markdown",
      "metadata": {
        "id": "GwMI5_kMXRTO"
      },
      "source": [
        "##Download Dataset"
      ]
    },
    {
      "cell_type": "code",
      "execution_count": null,
      "metadata": {
        "colab": {
          "base_uri": "https://localhost:8080/"
        },
        "id": "yNDsNahAXXzI",
        "outputId": "2284c959-5fff-4829-9495-fb41f416bcdd"
      },
      "outputs": [
        {
          "output_type": "stream",
          "name": "stdout",
          "text": [
            "Please provide your Kaggle credentials to download this dataset. Learn more: http://bit.ly/kaggle-creds\n",
            "Your Kaggle username: wahyunandanicola\n",
            "Your Kaggle Key: ··········\n",
            "Downloading plantvillage-dataset.zip to ./plantvillage-dataset\n"
          ]
        },
        {
          "output_type": "stream",
          "name": "stderr",
          "text": [
            "100%|██████████| 2.04G/2.04G [02:17<00:00, 16.0MB/s]\n"
          ]
        },
        {
          "output_type": "stream",
          "name": "stdout",
          "text": [
            "\n"
          ]
        }
      ],
      "source": [
        "od.download(\"https://www.kaggle.com/datasets/abdallahalidev/plantvillage-dataset\")"
      ]
    },
    {
      "cell_type": "code",
      "execution_count": null,
      "metadata": {
        "colab": {
          "base_uri": "https://localhost:8080/"
        },
        "id": "yjSbYQB874ci",
        "outputId": "09b03a8e-bba2-4f1d-f826-e139b56c5186"
      },
      "outputs": [
        {
          "output_type": "stream",
          "name": "stdout",
          "text": [
            "/content/plantvillage-dataset\n"
          ]
        }
      ],
      "source": [
        "%cd plantvillage-dataset"
      ]
    },
    {
      "cell_type": "markdown",
      "metadata": {
        "id": "gR8Njzw28kUY"
      },
      "source": [
        "##Image Augmentation"
      ]
    },
    {
      "cell_type": "code",
      "execution_count": null,
      "metadata": {
        "id": "WuvZH54D8VAM"
      },
      "outputs": [],
      "source": [
        "trainings_datagen = ImageDataGenerator(\n",
        "    rescale = 1./255,\n",
        "    width_shift_range=0.2,\n",
        "    height_shift_range=0.2,\n",
        "    zoom_range=0.2,\n",
        "    vertical_flip=True,\n",
        "    horizontal_flip=True,\n",
        "    shear_range=0.2,\n",
        "    rotation_range=30,\n",
        "    fill_mode='nearest',\n",
        "    validation_split=0.4\n",
        "    )\n",
        "\n",
        "val_datagen = ImageDataGenerator(\n",
        "    rescale=1./255, \n",
        "    validation_split=0.4)"
      ]
    },
    {
      "cell_type": "markdown",
      "metadata": {
        "id": "zzQAkjha8qZ5"
      },
      "source": [
        "##Split Dataset"
      ]
    },
    {
      "cell_type": "code",
      "execution_count": null,
      "metadata": {
        "colab": {
          "base_uri": "https://localhost:8080/"
        },
        "id": "zTEamtNS83IU",
        "outputId": "d536d522-f2fe-4b28-921e-4512b7e39e0f"
      },
      "outputs": [
        {
          "output_type": "stream",
          "name": "stdout",
          "text": [
            "Found 32598 images belonging to 38 classes.\n",
            "Found 21707 images belonging to 38 classes.\n"
          ]
        }
      ],
      "source": [
        "base_dir = '/content/plantvillage-dataset/plantvillage dataset/color'\n",
        "train_generator = trainings_datagen.flow_from_directory(\n",
        "    base_dir,\n",
        "    class_mode='categorical',\n",
        "    seed=42,\n",
        "    target_size=(150,150), \n",
        "    shuffle=True,\n",
        "    subset='training')\n",
        "validation_generator = val_datagen.flow_from_directory(\n",
        "    base_dir,\n",
        "    seed=42,\n",
        "    class_mode='categorical',\n",
        "    target_size=(150,150),\n",
        "    subset='validation')"
      ]
    },
    {
      "cell_type": "markdown",
      "metadata": {
        "id": "OexsbzsO9HDj"
      },
      "source": [
        "##Modelling"
      ]
    },
    {
      "cell_type": "code",
      "execution_count": null,
      "metadata": {
        "id": "gbplbBY_9LWK"
      },
      "outputs": [],
      "source": [
        "model = tf.keras.models.Sequential([\n",
        "    tf.keras.layers.Conv2D(8, (5, 5), activation='relu', input_shape=(150, 150, 3)),\n",
        "    tf.keras.layers.MaxPooling2D(2, 2),\n",
        "    tf.keras.layers.Conv2D(16, (5, 5), activation='relu'),\n",
        "    tf.keras.layers.MaxPooling2D(2,2),\n",
        "    tf.keras.layers.Conv2D(32, (5, 5), activation='relu'),\n",
        "    tf.keras.layers.MaxPooling2D(2,2),\n",
        "    tf.keras.layers.Flatten(),\n",
        "    tf.keras.layers.Dense(64, activation='relu'),\n",
        "    tf.keras.layers.Dense(38, activation='softmax')\n",
        "])"
      ]
    },
    {
      "cell_type": "code",
      "execution_count": null,
      "metadata": {
        "colab": {
          "base_uri": "https://localhost:8080/"
        },
        "id": "b84zNiwL9gi0",
        "outputId": "cfd22919-1ed7-4cd9-a242-880c377ce905"
      },
      "outputs": [
        {
          "output_type": "stream",
          "name": "stdout",
          "text": [
            "Model: \"sequential\"\n",
            "_________________________________________________________________\n",
            " Layer (type)                Output Shape              Param #   \n",
            "=================================================================\n",
            " conv2d (Conv2D)             (None, 146, 146, 8)       608       \n",
            "                                                                 \n",
            " max_pooling2d (MaxPooling2D  (None, 73, 73, 8)        0         \n",
            " )                                                               \n",
            "                                                                 \n",
            " conv2d_1 (Conv2D)           (None, 69, 69, 16)        3216      \n",
            "                                                                 \n",
            " max_pooling2d_1 (MaxPooling  (None, 34, 34, 16)       0         \n",
            " 2D)                                                             \n",
            "                                                                 \n",
            " conv2d_2 (Conv2D)           (None, 30, 30, 32)        12832     \n",
            "                                                                 \n",
            " max_pooling2d_2 (MaxPooling  (None, 15, 15, 32)       0         \n",
            " 2D)                                                             \n",
            "                                                                 \n",
            " flatten (Flatten)           (None, 7200)              0         \n",
            "                                                                 \n",
            " dense (Dense)               (None, 64)                460864    \n",
            "                                                                 \n",
            " dense_1 (Dense)             (None, 38)                2470      \n",
            "                                                                 \n",
            "=================================================================\n",
            "Total params: 479,990\n",
            "Trainable params: 479,990\n",
            "Non-trainable params: 0\n",
            "_________________________________________________________________\n"
          ]
        }
      ],
      "source": [
        "model.summary()"
      ]
    },
    {
      "cell_type": "code",
      "execution_count": null,
      "metadata": {
        "id": "sXFlqUsM90uI"
      },
      "outputs": [],
      "source": [
        "model.compile(loss='categorical_crossentropy',\n",
        "              optimizer=tf.optimizers.Adam(learning_rate=0.0001),\n",
        "              metrics=['accuracy'])"
      ]
    },
    {
      "cell_type": "code",
      "execution_count": null,
      "metadata": {
        "id": "VS_FJVQI92jq"
      },
      "outputs": [],
      "source": [
        "# class myCallback(tf.keras.callbacks.Callback):\n",
        "#   def on_epoch_end(self, epoch, logs={}):\n",
        "#     if(logs.get('val_accuracy')>0.93):\n",
        "#       if(logs.get('accuracy')>0.93):\n",
        "#         print(\"\\nTRAINING AKAN BERHENTI KETIKA AKURASI MODEL SUDAH LEBIH DARI 93%!\")\n",
        "#         self.model.stop_training = True\n",
        "\n",
        "# callbacks = myCallback()"
      ]
    },
    {
      "cell_type": "markdown",
      "metadata": {
        "id": "TUje0G8Q977O"
      },
      "source": [
        "##Callback Option"
      ]
    },
    {
      "cell_type": "code",
      "execution_count": null,
      "metadata": {
        "id": "OZ7Xfw0x-ASx"
      },
      "outputs": [],
      "source": [
        "callback_cp = tf.keras.callbacks.ModelCheckpoint(\n",
        "    filepath=\"/tmp/best-weights/weights-improvement-{epoch:02d}-{val_accuracy:.2f}.hdf5\", #hdf5 = h5 (versi singkat)\n",
        "    monitor=\"val_accuracy\",\n",
        "    verbose=1,\n",
        "    save_best_only=True,\n",
        "    mode=\"max\"\n",
        ")\n",
        "callback_es = tf.keras.callbacks.EarlyStopping(monitor='loss', restore_best_weights=True, patience=20)"
      ]
    },
    {
      "cell_type": "markdown",
      "metadata": {
        "id": "lAXspPaR-KxI"
      },
      "source": [
        "##Trainning Model"
      ]
    },
    {
      "cell_type": "code",
      "execution_count": null,
      "metadata": {
        "id": "BxCozaHU-OvZ"
      },
      "outputs": [],
      "source": [
        "class myCallback(tf.keras.callbacks.Callback):\n",
        "  def on_epoch_end(self, epoch, logs={}):\n",
        "    if(logs.get('val_accuracy')>0.98):\n",
        "      if(logs.get('accuracy')>0.98):\n",
        "        print(\"\\nTRAINING AKAN BERHENTI KETIKA AKURASI MODEL SUDAH LEBIH DARI 98%!\")\n",
        "        self.model.stop_training = True\n",
        "\n",
        "callbacks = myCallback()"
      ]
    },
    {
      "cell_type": "code",
      "execution_count": null,
      "metadata": {
        "id": "9Uf-JiXCDMqv"
      },
      "outputs": [],
      "source": [
        " model.compile(loss='categorical_crossentropy',\n",
        "              optimizer='adam',\n",
        "              metrics=['accuracy'])"
      ]
    },
    {
      "cell_type": "code",
      "execution_count": null,
      "metadata": {
        "id": "M2nkkOE6nDum",
        "colab": {
          "base_uri": "https://localhost:8080/"
        },
        "outputId": "a33a7a26-eae4-4eeb-c776-f2409c23d235"
      },
      "outputs": [
        {
          "output_type": "stream",
          "name": "stdout",
          "text": [
            "Epoch 1/30\n",
            "128/128 [==============================] - 35s 209ms/step - loss: 3.3041 - accuracy: 0.1375 - val_loss: 2.9386 - val_accuracy: 0.2188\n",
            "Epoch 2/30\n",
            "128/128 [==============================] - 27s 208ms/step - loss: 2.8638 - accuracy: 0.2444 - val_loss: 2.8168 - val_accuracy: 0.2812\n",
            "Epoch 3/30\n",
            "128/128 [==============================] - 26s 206ms/step - loss: 2.5403 - accuracy: 0.3059 - val_loss: 2.3413 - val_accuracy: 0.3688\n",
            "Epoch 4/30\n",
            "128/128 [==============================] - 28s 222ms/step - loss: 2.3548 - accuracy: 0.3555 - val_loss: 2.3950 - val_accuracy: 0.3438\n",
            "Epoch 5/30\n",
            "128/128 [==============================] - 32s 252ms/step - loss: 2.1835 - accuracy: 0.3811 - val_loss: 2.1638 - val_accuracy: 0.3938\n",
            "Epoch 6/30\n",
            "128/128 [==============================] - 27s 209ms/step - loss: 2.0343 - accuracy: 0.4261 - val_loss: 1.8757 - val_accuracy: 0.4437\n",
            "Epoch 7/30\n",
            "128/128 [==============================] - 27s 214ms/step - loss: 1.8826 - accuracy: 0.4692 - val_loss: 1.9976 - val_accuracy: 0.4250\n",
            "Epoch 8/30\n",
            "128/128 [==============================] - 28s 215ms/step - loss: 1.7871 - accuracy: 0.4816 - val_loss: 2.0272 - val_accuracy: 0.4125\n",
            "Epoch 9/30\n",
            "128/128 [==============================] - 27s 211ms/step - loss: 1.7843 - accuracy: 0.4841 - val_loss: 1.7935 - val_accuracy: 0.4375\n",
            "Epoch 10/30\n",
            "128/128 [==============================] - 27s 209ms/step - loss: 1.6851 - accuracy: 0.5168 - val_loss: 1.4602 - val_accuracy: 0.5688\n",
            "Epoch 11/30\n",
            "128/128 [==============================] - 30s 235ms/step - loss: 1.6022 - accuracy: 0.5264 - val_loss: 1.6176 - val_accuracy: 0.5125\n",
            "Epoch 12/30\n",
            "128/128 [==============================] - 28s 215ms/step - loss: 1.5468 - accuracy: 0.5515 - val_loss: 1.4051 - val_accuracy: 0.5875\n",
            "Epoch 13/30\n",
            "128/128 [==============================] - 26s 206ms/step - loss: 1.5159 - accuracy: 0.5593 - val_loss: 1.8886 - val_accuracy: 0.5250\n",
            "Epoch 14/30\n",
            "128/128 [==============================] - 29s 224ms/step - loss: 1.3901 - accuracy: 0.5754 - val_loss: 1.2997 - val_accuracy: 0.5875\n",
            "Epoch 15/30\n",
            "128/128 [==============================] - 28s 217ms/step - loss: 1.3906 - accuracy: 0.5896 - val_loss: 1.2398 - val_accuracy: 0.6375\n",
            "Epoch 16/30\n",
            "128/128 [==============================] - 27s 210ms/step - loss: 1.3658 - accuracy: 0.5913 - val_loss: 1.7502 - val_accuracy: 0.5437\n",
            "Epoch 17/30\n",
            "128/128 [==============================] - 29s 225ms/step - loss: 1.3423 - accuracy: 0.6006 - val_loss: 1.2054 - val_accuracy: 0.6062\n",
            "Epoch 18/30\n",
            "128/128 [==============================] - 27s 212ms/step - loss: 1.2857 - accuracy: 0.6094 - val_loss: 1.2250 - val_accuracy: 0.6250\n",
            "Epoch 19/30\n",
            "128/128 [==============================] - 27s 210ms/step - loss: 1.3087 - accuracy: 0.6035 - val_loss: 0.9837 - val_accuracy: 0.7188\n",
            "Epoch 20/30\n",
            "128/128 [==============================] - 27s 211ms/step - loss: 1.2456 - accuracy: 0.6235 - val_loss: 1.3496 - val_accuracy: 0.6250\n",
            "Epoch 21/30\n",
            "128/128 [==============================] - 29s 226ms/step - loss: 1.2563 - accuracy: 0.6228 - val_loss: 1.1553 - val_accuracy: 0.6438\n",
            "Epoch 22/30\n",
            "128/128 [==============================] - 28s 220ms/step - loss: 1.1899 - accuracy: 0.6362 - val_loss: 1.4958 - val_accuracy: 0.5813\n",
            "Epoch 23/30\n",
            "128/128 [==============================] - 28s 217ms/step - loss: 1.1572 - accuracy: 0.6411 - val_loss: 0.9028 - val_accuracy: 0.7437\n",
            "Epoch 24/30\n",
            "128/128 [==============================] - 28s 215ms/step - loss: 1.1699 - accuracy: 0.6443 - val_loss: 1.1291 - val_accuracy: 0.6562\n",
            "Epoch 25/30\n",
            "128/128 [==============================] - 26s 203ms/step - loss: 1.1086 - accuracy: 0.6653 - val_loss: 1.3490 - val_accuracy: 0.5875\n",
            "Epoch 26/30\n",
            "128/128 [==============================] - 26s 202ms/step - loss: 1.0966 - accuracy: 0.6565 - val_loss: 0.9431 - val_accuracy: 0.7250\n",
            "Epoch 27/30\n",
            "128/128 [==============================] - 26s 199ms/step - loss: 1.0896 - accuracy: 0.6758 - val_loss: 0.9936 - val_accuracy: 0.6687\n",
            "Epoch 28/30\n",
            "128/128 [==============================] - 27s 208ms/step - loss: 1.1113 - accuracy: 0.6599 - val_loss: 1.4396 - val_accuracy: 0.5875\n",
            "Epoch 29/30\n",
            "128/128 [==============================] - 26s 200ms/step - loss: 1.1101 - accuracy: 0.6533 - val_loss: 1.0653 - val_accuracy: 0.6625\n",
            "Epoch 30/30\n",
            "128/128 [==============================] - 26s 200ms/step - loss: 1.0998 - accuracy: 0.6736 - val_loss: 1.2057 - val_accuracy: 0.6375\n"
          ]
        }
      ],
      "source": [
        "history = model.fit(\n",
        "        train_generator,\n",
        "        steps_per_epoch=128, \n",
        "        epochs=30, \n",
        "        validation_data=validation_generator,\n",
        "        callbacks=[callbacks],\n",
        "        validation_steps=5,  \n",
        "        verbose=1)"
      ]
    },
    {
      "cell_type": "markdown",
      "source": [
        "##Visualisasi Akurasi dan Loss"
      ],
      "metadata": {
        "id": "kXrn_HUW5d--"
      }
    },
    {
      "cell_type": "code",
      "source": [
        "import matplotlib.pyplot as plt\n",
        "\n",
        "acc = history.history['accuracy']\n",
        "val_acc = history.history['val_accuracy']\n",
        "loss = history.history['loss']\n",
        "val_loss = history.history['val_loss']\n",
        "\n",
        "epochs = range(len(acc))\n",
        "\n",
        "plt.plot(epochs, acc, 'r', label='accuracy Training ')\n",
        "plt.plot(epochs, val_acc, 'b', label='accuracy Validasi')\n",
        "plt.title('accuracy Training and Validasi')\n",
        "plt.legend(loc=0)\n",
        "plt.figure()\n",
        "plt.show()\n",
        "\n",
        "plt.plot(epochs, loss, 'r', label='loss Training ')\n",
        "plt.plot(epochs, val_loss, 'b', label='loss Validasi')\n",
        "plt.title('loss Training and Validasi')\n",
        "plt.legend(loc=0)\n",
        "plt.figure()\n",
        "plt.show()"
      ],
      "metadata": {
        "colab": {
          "base_uri": "https://localhost:8080/",
          "height": 580
        },
        "id": "BK5FDpvF5iz7",
        "outputId": "ac6b5d3f-69df-4be3-c572-dba8149e3178"
      },
      "execution_count": null,
      "outputs": [
        {
          "output_type": "display_data",
          "data": {
            "text/plain": [
              "<Figure size 432x288 with 1 Axes>"
            ],
            "image/png": "[encoded data removed]"
          },
          "metadata": {
            "needs_background": "light"
          }
        },
        {
          "output_type": "display_data",
          "data": {
            "text/plain": [
              "<Figure size 432x288 with 0 Axes>"
            ]
          },
          "metadata": {}
        },
        {
          "output_type": "display_data",
          "data": {
            "text/plain": [
              "<Figure size 432x288 with 1 Axes>"
            ],
            "image/png": "[encoded data removed]"
          },
          "metadata": {
            "needs_background": "light"
          }
        },
        {
          "output_type": "display_data",
          "data": {
            "text/plain": [
              "<Figure size 432x288 with 0 Axes>"
            ]
          },
          "metadata": {}
        }
      ]
    },
    {
      "cell_type": "markdown",
      "source": [
        "##Improve Model with Transfer Learning (with MobileNet v2)"
      ],
      "metadata": {
        "id": "4r9CCFISeFqO"
      }
    },
    {
      "cell_type": "markdown",
      "source": [
        "###Create and Train Model"
      ],
      "metadata": {
        "id": "YMcaLJ7keK87"
      }
    },
    {
      "cell_type": "code",
      "source": [
        "import zipfile\n",
        "import os\n",
        "import random\n",
        "import math\n",
        "import shutil\n",
        "import tensorflow as tf\n",
        "import matplotlib.pyplot as plt\n",
        "import matplotlib.image as mpimg\n",
        "import numpy as np\n",
        "import pandas as pd\n",
        "import seaborn as sn\n",
        "from sklearn import metrics\n",
        "from google.colab import files\n",
        "from shutil import copyfile\n",
        "from tensorflow.keras.preprocessing.image import ImageDataGenerator"
      ],
      "metadata": {
        "id": "Pd000iBse4f5"
      },
      "execution_count": null,
      "outputs": []
    },
    {
      "cell_type": "markdown",
      "source": [
        "First, instantiate a base model with pre-trained weights."
      ],
      "metadata": {
        "id": "TqZzA9lreTVF"
      }
    },
    {
      "cell_type": "code",
      "source": [
        "# The base model is the model that is pre-trained. \n",
        "# We will create a base model using MobileNet V2.\n",
        "\n",
        "base_model = tf.keras.applications.MobileNetV2(\n",
        "    weights='imagenet',  # Load weights pre-trained on ImageNet.\n",
        "    input_shape=(150, 150, 3),\n",
        "    include_top=False  # Do not include the ImageNet classifier at the top.\n",
        ")\n"
      ],
      "metadata": {
        "colab": {
          "base_uri": "https://localhost:8080/"
        },
        "id": "iPr2gCoYgeLs",
        "outputId": "76624bfa-d790-4383-d8ad-51dc1f043e06"
      },
      "execution_count": null,
      "outputs": [
        {
          "output_type": "stream",
          "name": "stderr",
          "text": [
            "WARNING:tensorflow:`input_shape` is undefined or non-square, or `rows` is not in [96, 128, 160, 192, 224]. Weights for input shape (224, 224) will be loaded as the default.\n"
          ]
        },
        {
          "output_type": "stream",
          "name": "stdout",
          "text": [
            "Downloading data from https://storage.googleapis.com/tensorflow/keras-applications/mobilenet_v2/mobilenet_v2_weights_tf_dim_ordering_tf_kernels_1.0_224_no_top.h5\n",
            "9406464/9406464 [==============================] - 0s 0us/step\n"
          ]
        }
      ]
    },
    {
      "cell_type": "code",
      "source": [
        "# Unfreeze the base model\n",
        "base_model.trainable = False"
      ],
      "metadata": {
        "id": "_AuzgiR3g3zt"
      },
      "execution_count": null,
      "outputs": []
    },
    {
      "cell_type": "code",
      "source": [
        "model = tf.keras.Sequential([\n",
        "    base_model,\n",
        "    tf.keras.layers.GlobalAveragePooling2D(),\n",
        "    tf.keras.layers.Dense(38, activation='softmax')]\n",
        ")\n",
        "\n",
        "model.summary()"
      ],
      "metadata": {
        "colab": {
          "base_uri": "https://localhost:8080/"
        },
        "id": "UprQyATmg5Fg",
        "outputId": "7acaf949-d7d3-4132-c0d4-7891fbc31486"
      },
      "execution_count": null,
      "outputs": [
        {
          "output_type": "stream",
          "name": "stdout",
          "text": [
            "Model: \"sequential_1\"\n",
            "_________________________________________________________________\n",
            " Layer (type)                Output Shape              Param #   \n",
            "=================================================================\n",
            " mobilenetv2_1.00_224 (Funct  (None, 5, 5, 1280)       2257984   \n",
            " ional)                                                          \n",
            "                                                                 \n",
            " global_average_pooling2d (G  (None, 1280)             0         \n",
            " lobalAveragePooling2D)                                          \n",
            "                                                                 \n",
            " dense_2 (Dense)             (None, 38)                48678     \n",
            "                                                                 \n",
            "=================================================================\n",
            "Total params: 2,306,662\n",
            "Trainable params: 48,678\n",
            "Non-trainable params: 2,257,984\n",
            "_________________________________________________________________\n"
          ]
        }
      ]
    },
    {
      "cell_type": "code",
      "source": [
        "model.compile(\n",
        "    optimizer=tf.keras.optimizers.Adam(1e-5), # Low learning rate\n",
        "    loss=tf.keras.losses.CategoricalCrossentropy(),\n",
        "    metrics=[tf.keras.metrics.CategoricalAccuracy()]\n",
        ")\n",
        "\n",
        "history = model.fit(\n",
        "    train_generator,\n",
        "    epochs=30,\n",
        "    steps_per_epoch=len(train_generator),\n",
        "    validation_data=validation_generator,\n",
        "    validation_steps=len(validation_generator),\n",
        "    verbose=1\n",
        ")"
      ],
      "metadata": {
        "colab": {
          "base_uri": "https://localhost:8080/"
        },
        "id": "QcmKHLQvg-Id",
        "outputId": "1a342b69-5fee-41f1-ff98-4fe98f01d213"
      },
      "execution_count": null,
      "outputs": [
        {
          "output_type": "stream",
          "name": "stdout",
          "text": [
            "Epoch 1/30\n",
            "1019/1019 [==============================] - 259s 251ms/step - loss: 3.5874 - categorical_accuracy: 0.1147 - val_loss: 3.0247 - val_categorical_accuracy: 0.1967\n",
            "Epoch 2/30\n",
            "1019/1019 [==============================] - 249s 244ms/step - loss: 2.7572 - categorical_accuracy: 0.2699 - val_loss: 2.4453 - val_categorical_accuracy: 0.3469\n",
            "Epoch 3/30\n",
            "1019/1019 [==============================] - 248s 243ms/step - loss: 2.2905 - categorical_accuracy: 0.3989 - val_loss: 2.0543 - val_categorical_accuracy: 0.4409\n",
            "Epoch 4/30\n",
            "1019/1019 [==============================] - 250s 245ms/step - loss: 1.9755 - categorical_accuracy: 0.4816 - val_loss: 1.7817 - val_categorical_accuracy: 0.5056\n",
            "Epoch 5/30\n",
            "1019/1019 [==============================] - 245s 241ms/step - loss: 1.7407 - categorical_accuracy: 0.5475 - val_loss: 1.5715 - val_categorical_accuracy: 0.5643\n",
            "Epoch 6/30\n",
            "1019/1019 [==============================] - 248s 243ms/step - loss: 1.5665 - categorical_accuracy: 0.5905 - val_loss: 1.4161 - val_categorical_accuracy: 0.6037\n",
            "Epoch 7/30\n",
            "1019/1019 [==============================] - 247s 242ms/step - loss: 1.4287 - categorical_accuracy: 0.6290 - val_loss: 1.2928 - val_categorical_accuracy: 0.6373\n",
            "Epoch 8/30\n",
            "1019/1019 [==============================] - 244s 239ms/step - loss: 1.3186 - categorical_accuracy: 0.6567 - val_loss: 1.1931 - val_categorical_accuracy: 0.6671\n",
            "Epoch 9/30\n",
            "1019/1019 [==============================] - 247s 242ms/step - loss: 1.2309 - categorical_accuracy: 0.6791 - val_loss: 1.1124 - val_categorical_accuracy: 0.6911\n",
            "Epoch 10/30\n",
            "1019/1019 [==============================] - 246s 241ms/step - loss: 1.1609 - categorical_accuracy: 0.6948 - val_loss: 1.0474 - val_categorical_accuracy: 0.7093\n",
            "Epoch 11/30\n",
            "1019/1019 [==============================] - 244s 240ms/step - loss: 1.0973 - categorical_accuracy: 0.7126 - val_loss: 0.9888 - val_categorical_accuracy: 0.7256\n",
            "Epoch 12/30\n",
            "1019/1019 [==============================] - 244s 239ms/step - loss: 1.0464 - categorical_accuracy: 0.7231 - val_loss: 0.9436 - val_categorical_accuracy: 0.7367\n",
            "Epoch 13/30\n",
            "1019/1019 [==============================] - 243s 239ms/step - loss: 0.9966 - categorical_accuracy: 0.7364 - val_loss: 0.8998 - val_categorical_accuracy: 0.7494\n",
            "Epoch 14/30\n",
            "1019/1019 [==============================] - 245s 241ms/step - loss: 0.9578 - categorical_accuracy: 0.7477 - val_loss: 0.8614 - val_categorical_accuracy: 0.7615\n",
            "Epoch 15/30\n",
            "1019/1019 [==============================] - 243s 239ms/step - loss: 0.9259 - categorical_accuracy: 0.7552 - val_loss: 0.8335 - val_categorical_accuracy: 0.7679\n",
            "Epoch 16/30\n",
            "1019/1019 [==============================] - 243s 239ms/step - loss: 0.8902 - categorical_accuracy: 0.7643 - val_loss: 0.8054 - val_categorical_accuracy: 0.7750\n",
            "Epoch 17/30\n",
            "1019/1019 [==============================] - 243s 238ms/step - loss: 0.8670 - categorical_accuracy: 0.7696 - val_loss: 0.7776 - val_categorical_accuracy: 0.7830\n",
            "Epoch 18/30\n",
            "1019/1019 [==============================] - 243s 238ms/step - loss: 0.8450 - categorical_accuracy: 0.7730 - val_loss: 0.7566 - val_categorical_accuracy: 0.7881\n",
            "Epoch 19/30\n",
            "1019/1019 [==============================] - 243s 239ms/step - loss: 0.8220 - categorical_accuracy: 0.7769 - val_loss: 0.7350 - val_categorical_accuracy: 0.7946\n",
            "Epoch 20/30\n",
            "1019/1019 [==============================] - 243s 239ms/step - loss: 0.7995 - categorical_accuracy: 0.7807 - val_loss: 0.7171 - val_categorical_accuracy: 0.7990\n",
            "Epoch 21/30\n",
            "1019/1019 [==============================] - 243s 238ms/step - loss: 0.7803 - categorical_accuracy: 0.7873 - val_loss: 0.7022 - val_categorical_accuracy: 0.8020\n",
            "Epoch 22/30\n",
            "1019/1019 [==============================] - 246s 241ms/step - loss: 0.7668 - categorical_accuracy: 0.7899 - val_loss: 0.6840 - val_categorical_accuracy: 0.8074\n",
            "Epoch 23/30\n",
            "1019/1019 [==============================] - 243s 238ms/step - loss: 0.7506 - categorical_accuracy: 0.7939 - val_loss: 0.6690 - val_categorical_accuracy: 0.8110\n",
            "Epoch 24/30\n",
            "1019/1019 [==============================] - 242s 237ms/step - loss: 0.7305 - categorical_accuracy: 0.7986 - val_loss: 0.6564 - val_categorical_accuracy: 0.8142\n",
            "Epoch 25/30\n",
            "1019/1019 [==============================] - 243s 239ms/step - loss: 0.7180 - categorical_accuracy: 0.8029 - val_loss: 0.6469 - val_categorical_accuracy: 0.8150\n",
            "Epoch 26/30\n",
            "1019/1019 [==============================] - 243s 238ms/step - loss: 0.7042 - categorical_accuracy: 0.8076 - val_loss: 0.6349 - val_categorical_accuracy: 0.8190\n",
            "Epoch 27/30\n",
            "1019/1019 [==============================] - 243s 238ms/step - loss: 0.6964 - categorical_accuracy: 0.8087 - val_loss: 0.6242 - val_categorical_accuracy: 0.8217\n",
            "Epoch 28/30\n",
            "1019/1019 [==============================] - 242s 237ms/step - loss: 0.6806 - categorical_accuracy: 0.8116 - val_loss: 0.6148 - val_categorical_accuracy: 0.8237\n",
            "Epoch 29/30\n",
            "1019/1019 [==============================] - 243s 238ms/step - loss: 0.6733 - categorical_accuracy: 0.8116 - val_loss: 0.6082 - val_categorical_accuracy: 0.8254\n",
            "Epoch 30/30\n",
            "1019/1019 [==============================] - 241s 237ms/step - loss: 0.6630 - categorical_accuracy: 0.8156 - val_loss: 0.5948 - val_categorical_accuracy: 0.8282\n"
          ]
        }
      ]
    },
    {
      "cell_type": "markdown",
      "source": [
        "###Prediksi Model"
      ],
      "metadata": {
        "id": "Q6wPP0mKdERc"
      }
    },
    {
      "cell_type": "code",
      "source": [
        "import numpy as np\n",
        "from google.colab import files\n",
        "from tensorflow.keras.preprocessing import image\n",
        "import matplotlib.pyplot as plt\n",
        "import matplotlib.image as mpimg\n",
        "%matplotlib inline\n",
        " \n",
        "uploaded = files.upload()\n",
        " \n",
        "for fn in uploaded.keys():\n",
        " \n",
        "  # predicting images\n",
        "  path = fn\n",
        "  img = image.load_img(path, target_size=(150,150))\n",
        " \n",
        "  imgplot = plt.imshow(img)\n",
        "  x = image.img_to_array(img)\n",
        "  x = np.expand_dims(x, axis=0)\n",
        "  images = np.vstack([x])\n",
        " \n",
        "  classes = model.predict(images, batch_size=10)  \n",
        "  print(classes)\n",
        "  if classes[0,0]==1:\n",
        "   print('Apple___Apple_scab')\n",
        "  elif classes[0,1]==1:\n",
        "   print('Apple___Black_rot')\n",
        "  elif classes[0,2]==1:\n",
        "   print('Apple___Cedar_apple_rust')\n",
        "  elif classes[0,3]==1:\n",
        "   print('Apple___healthy')\n",
        "  elif classes[0,4]==1:\n",
        "   print('Blueberry___healthy')\n",
        "  elif classes[0,5]==1:\n",
        "   print('Cherry_(including_sour)___Powdery_mildew')\n",
        "  elif classes[0,6]==1:\n",
        "   print('Cherry_(including_sour)___healthy')\n",
        "  elif classes[0,7]==1:\n",
        "   print('Corn_(maize)___Cercospora_leaf_spot Gray_leaf_spot')\n",
        "  elif classes[0,8]==1:\n",
        "   print('Corn_(maize)___Common_rust_')\n",
        "  elif classes[0,9]==1:\n",
        "   print('Corn_(maize)___Northern_Leaf_Blight')\n",
        "  elif classes[0,10]==1:\n",
        "   print('Corn_(maize)___healthy')\n",
        "  elif classes[0,11]==1:\n",
        "   print('Grape___Black_rot')\n",
        "  elif classes[0,12]==1:\n",
        "   print('Grape___Esca_(Black_Measles)')\n",
        "  elif classes[0,13]==1:\n",
        "   print('Grape___Leaf_blight_(Isariopsis_Leaf_Spot)')\n",
        "  elif classes[0,14]==1:\n",
        "   print('Grape___healthy')\n",
        "  elif classes[0,15]==1:\n",
        "   print('Orange___Haunglongbing_(Citrus_greening)')\n",
        "  elif classes[0,16]==1:\n",
        "   print('Peach___Bacterial_spot')\n",
        "  elif classes[0,17]==1:\n",
        "   print('Peach___healthy')\n",
        "  elif classes[0,18]==1:\n",
        "   print('Pepper,_bell___Bacterial_spot')\n",
        "  elif classes[0,19]==1:\n",
        "   print('Pepper,_bell___healthy')\n",
        "  elif classes[0,20]==1:\n",
        "   print('Potato___Early_blight')\n",
        "  elif classes[0,21]==1:\n",
        "   print('Potato___Late_blight')\n",
        "  elif classes[0,22]==1:\n",
        "   print('Potato___healthy')\n",
        "  elif classes[0,23]==1:\n",
        "   print('Raspberry___healthy')\n",
        "  elif classes[0,24]==1:\n",
        "   print('Soybean___healthy')\n",
        "  elif classes[0,25]==1:\n",
        "   print('Soybean___healthy')\n",
        "  elif classes[0,26]==1:\n",
        "   print('Squash___Powdery_mildew')\n",
        "  elif classes[0,27]==1:\n",
        "   print('Squash___Powdery_mildew')\n",
        "  elif classes[0,28]==1:\n",
        "   print('Strawberry___Leaf_scorch')\n",
        "  elif classes[0,29]==1:\n",
        "   print('Strawberry___healthy')\n",
        "  elif classes[0,30]==1:\n",
        "   print('Tomato___Bacterial_spot')\n",
        "  elif classes[0,31]==1:\n",
        "   print('Tomato___Early_blight')\n",
        "  elif classes[0,32]==1:\n",
        "   print('Tomato___Late_blight')\n",
        "  elif classes[0,33]==1:\n",
        "   print('Tomato___Leaf_Mold')\n",
        "  elif classes[0,34]==1:\n",
        "   print('Tomato___Septoria_leaf_spot')\n",
        "  elif classes[0,35]==1:\n",
        "   print('Tomato___Target_Spot')\n",
        "  elif classes[0,36]==1:\n",
        "   print('Tomato___Tomato_Yellow_Leaf_Curl_Viruss')\n",
        "  elif classes[0,37]==1:\n",
        "   print('Tomato___healthy')\n",
        "  else :\n",
        "    print('tidak diketahui')"
      ],
      "metadata": {
        "colab": {
          "base_uri": "https://localhost:8080/",
          "height": 533
        },
        "id": "Q7eGYsusdNpI",
        "outputId": "2c7014de-326a-4559-865e-4a3745454c5a"
      },
      "execution_count": null,
      "outputs": [
        {
          "output_type": "display_data",
          "data": {
            "text/plain": [
              "<IPython.core.display.HTML object>"
            ],
            "text/html": [
              "\n",
              "     <input type=\"file\" id=\"files-b0334139-4b14-4d6a-a59e-ed6d3d27ae5c\" name=\"files[]\" multiple disabled\n",
              "        style=\"border:none\" />\n",
              "     <output id=\"result-b0334139-4b14-4d6a-a59e-ed6d3d27ae5c\">\n",
              "      Upload widget is only available when the cell has been executed in the\n",
              "      current browser session. Please rerun this cell to enable.\n",
              "      </output>\n",
              "      <script>// Copyright 2017 Google LLC\n",
              "//\n",
              "// Licensed under the Apache License, Version 2.0 (the \"License\");\n",
              "// you may not use this file except in compliance with the License.\n",
              "// You may obtain a copy of the License at\n",
              "//\n",
              "//      http://www.apache.org/licenses/LICENSE-2.0\n",
              "//\n",
              "// Unless required by applicable law or agreed to in writing, software\n",
              "// distributed under the License is distributed on an \"AS IS\" BASIS,\n",
              "// WITHOUT WARRANTIES OR CONDITIONS OF ANY KIND, either express or implied.\n",
              "// See the License for the specific language governing permissions and\n",
              "// limitations under the License.\n",
              "\n",
              "/**\n",
              " * @fileoverview Helpers for google.colab Python module.\n",
              " */\n",
              "(function(scope) {\n",
              "function span(text, styleAttributes = {}) {\n",
              "  const element = document.createElement('span');\n",
              "  element.textContent = text;\n",
              "  for (const key of Object.keys(styleAttributes)) {\n",
              "    element.style[key] = styleAttributes[key];\n",
              "  }\n",
              "  return element;\n",
              "}\n",
              "\n",
              "// Max number of bytes which will be uploaded at a time.\n",
              "const MAX_PAYLOAD_SIZE = 100 * 1024;\n",
              "\n",
              "function _uploadFiles(inputId, outputId) {\n",
              "  const steps = uploadFilesStep(inputId, outputId);\n",
              "  const outputElement = document.getElementById(outputId);\n",
              "  // Cache steps on the outputElement to make it available for the next call\n",
              "  // to uploadFilesContinue from Python.\n",
              "  outputElement.steps = steps;\n",
              "\n",
              "  return _uploadFilesContinue(outputId);\n",
              "}\n",
              "\n",
              "// This is roughly an async generator (not supported in the browser yet),\n",
              "// where there are multiple asynchronous steps and the Python side is going\n",
              "// to poll for completion of each step.\n",
              "// This uses a Promise to block the python side on completion of each step,\n",
              "// then passes the result of the previous step as the input to the next step.\n",
              "function _uploadFilesContinue(outputId) {\n",
              "  const outputElement = document.getElementById(outputId);\n",
              "  const steps = outputElement.steps;\n",
              "\n",
              "  const next = steps.next(outputElement.lastPromiseValue);\n",
              "  return Promise.resolve(next.value.promise).then((value) => {\n",
              "    // Cache the last promise value to make it available to the next\n",
              "    // step of the generator.\n",
              "    outputElement.lastPromiseValue = value;\n",
              "    return next.value.response;\n",
              "  });\n",
              "}\n",
              "\n",
              "/**\n",
              " * Generator function which is called between each async step of the upload\n",
              " * process.\n",
              " * @param {string} inputId Element ID of the input file picker element.\n",
              " * @param {string} outputId Element ID of the output display.\n",
              " * @return {!Iterable<!Object>} Iterable of next steps.\n",
              " */\n",
              "function* uploadFilesStep(inputId, outputId) {\n",
              "  const inputElement = document.getElementById(inputId);\n",
              "  inputElement.disabled = false;\n",
              "\n",
              "  const outputElement = document.getElementById(outputId);\n",
              "  outputElement.innerHTML = '';\n",
              "\n",
              "  const pickedPromise = new Promise((resolve) => {\n",
              "    inputElement.addEventListener('change', (e) => {\n",
              "      resolve(e.target.files);\n",
              "    });\n",
              "  });\n",
              "\n",
              "  const cancel = document.createElement('button');\n",
              "  inputElement.parentElement.appendChild(cancel);\n",
              "  cancel.textContent = 'Cancel upload';\n",
              "  const cancelPromise = new Promise((resolve) => {\n",
              "    cancel.onclick = () => {\n",
              "      resolve(null);\n",
              "    };\n",
              "  });\n",
              "\n",
              "  // Wait for the user to pick the files.\n",
              "  const files = yield {\n",
              "    promise: Promise.race([pickedPromise, cancelPromise]),\n",
              "    response: {\n",
              "      action: 'starting',\n",
              "    }\n",
              "  };\n",
              "\n",
              "  cancel.remove();\n",
              "\n",
              "  // Disable the input element since further picks are not allowed.\n",
              "  inputElement.disabled = true;\n",
              "\n",
              "  if (!files) {\n",
              "    return {\n",
              "      response: {\n",
              "        action: 'complete',\n",
              "      }\n",
              "    };\n",
              "  }\n",
              "\n",
              "  for (const file of files) {\n",
              "    const li = document.createElement('li');\n",
              "    li.append(span(file.name, {fontWeight: 'bold'}));\n",
              "    li.append(span(\n",
              "        `(${file.type || 'n/a'}) - ${file.size} bytes, ` +\n",
              "        `last modified: ${\n",
              "            file.lastModifiedDate ? file.lastModifiedDate.toLocaleDateString() :\n",
              "                                    'n/a'} - `));\n",
              "    const percent = span('0% done');\n",
              "    li.appendChild(percent);\n",
              "\n",
              "    outputElement.appendChild(li);\n",
              "\n",
              "    const fileDataPromise = new Promise((resolve) => {\n",
              "      const reader = new FileReader();\n",
              "      reader.onload = (e) => {\n",
              "        resolve(e.target.result);\n",
              "      };\n",
              "      reader.readAsArrayBuffer(file);\n",
              "    });\n",
              "    // Wait for the data to be ready.\n",
              "    let fileData = yield {\n",
              "      promise: fileDataPromise,\n",
              "      response: {\n",
              "        action: 'continue',\n",
              "      }\n",
              "    };\n",
              "\n",
              "    // Use a chunked sending to avoid message size limits. See b/62115660.\n",
              "    let position = 0;\n",
              "    do {\n",
              "      const length = Math.min(fileData.byteLength - position, MAX_PAYLOAD_SIZE);\n",
              "      const chunk = new Uint8Array(fileData, position, length);\n",
              "      position += length;\n",
              "\n",
              "      const base64 = btoa(String.fromCharCode.apply(null, chunk));\n",
              "      yield {\n",
              "        response: {\n",
              "          action: 'append',\n",
              "          file: file.name,\n",
              "          data: base64,\n",
              "        },\n",
              "      };\n",
              "\n",
              "      let percentDone = fileData.byteLength === 0 ?\n",
              "          100 :\n",
              "          Math.round((position / fileData.byteLength) * 100);\n",
              "      percent.textContent = `${percentDone}% done`;\n",
              "\n",
              "    } while (position < fileData.byteLength);\n",
              "  }\n",
              "\n",
              "  // All done.\n",
              "  yield {\n",
              "    response: {\n",
              "      action: 'complete',\n",
              "    }\n",
              "  };\n",
              "}\n",
              "\n",
              "scope.google = scope.google || {};\n",
              "scope.google.colab = scope.google.colab || {};\n",
              "scope.google.colab._files = {\n",
              "  _uploadFiles,\n",
              "  _uploadFilesContinue,\n",
              "};\n",
              "})(self);\n",
              "</script> "
            ]
          },
          "metadata": {}
        },
        {
          "output_type": "stream",
          "name": "stdout",
          "text": [
            "Saving 000146ff-92a4-4db6-90ad-8fce2ae4fddd___GH_HL Leaf 259.1.JPG to 000146ff-92a4-4db6-90ad-8fce2ae4fddd___GH_HL Leaf 259.1.JPG\n",
            "1/1 [==============================] - 0s 20ms/step\n",
            "[[4.29319916e-03 6.72616949e-03 4.53874236e-03 5.99601455e-02\n",
            "  2.05490692e-03 6.81003602e-03 2.01564573e-04 9.60598420e-03\n",
            "  3.52435489e-03 1.78513955e-02 2.80963868e-01 1.87627273e-03\n",
            "  9.01895342e-04 2.18284922e-03 7.93308835e-04 1.07159644e-01\n",
            "  3.39757860e-01 4.61684316e-02 4.90795076e-03 2.68593896e-04\n",
            "  9.12219461e-04 1.24482578e-03 2.91949487e-04 6.52966439e-04\n",
            "  4.57264762e-03 4.02529258e-03 6.38077501e-03 2.07351171e-03\n",
            "  1.04238163e-03 1.37871003e-03 3.96408048e-03 1.72433129e-03\n",
            "  4.43277368e-03 3.31424153e-03 2.36448180e-03 1.64823718e-02\n",
            "  7.00478326e-04 4.38948348e-02]]\n",
            "tidak diketahui\n"
          ]
        },
        {
          "output_type": "display_data",
          "data": {
            "text/plain": [
              "<Figure size 432x288 with 1 Axes>"
            ],
            "image/png": "[encoded data removed]"
          },
          "metadata": {
            "needs_background": "light"
          }
        }
      ]
    }
  ],
  "metadata": {
    "accelerator": "GPU",
    "colab": {
      "provenance": []
    },
    "gpuClass": "standard",
    "kernelspec": {
      "display_name": "Python 3",
      "name": "python3"
    },
    "language_info": {
      "name": "python"
    }
  },
  "nbformat": 4,
  "nbformat_minor": 0
}